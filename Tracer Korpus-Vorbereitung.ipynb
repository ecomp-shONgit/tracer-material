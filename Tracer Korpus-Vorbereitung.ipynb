{
 "cells": [
  {
   "cell_type": "markdown",
   "metadata": {},
   "source": [
    "# Vorbereitung eines Korpus für [TRACER](https://www.etrap.eu/research/tracer/)"
   ]
  },
  {
   "cell_type": "markdown",
   "metadata": {},
   "source": [
    "## Laden des Textes\n",
    "Zu tun: Pfad zur Datei und Variable (name) sowie Zeilennummer (line_cnt) anpassen"
   ]
  },
  {
   "cell_type": "code",
   "execution_count": 37,
   "metadata": {},
   "outputs": [],
   "source": [
    "name = \"Aldama-337-Text-PG\"\n",
    "line_cnt = 4000001\n",
    "text = open(\"/home/stockhausen/Sync/Severian/Plaintext-Korpus/%s.txt\" % name, encoding='utf-8').read()"
   ]
  },
  {
   "cell_type": "markdown",
   "metadata": {},
   "source": [
    "## Normalisierung des Textes"
   ]
  },
  {
   "cell_type": "code",
   "execution_count": 38,
   "metadata": {},
   "outputs": [],
   "source": [
    "from cltk.corpus.utils.formatter import cltk_normalize\n",
    "normalized = cltk_normalize(text).lower()"
   ]
  },
  {
   "cell_type": "markdown",
   "metadata": {},
   "source": [
    "## Aufteilung des Textes in Sätze "
   ]
  },
  {
   "cell_type": "code",
   "execution_count": 39,
   "metadata": {
    "scrolled": true
   },
   "outputs": [],
   "source": [
    "from cltk.tokenize.sentence import TokenizeSentence\n",
    "tokenizer = TokenizeSentence('greek')\n",
    "tokenized = tokenizer.tokenize_sentences(normalized)"
   ]
  },
  {
   "cell_type": "markdown",
   "metadata": {},
   "source": [
    "## Korpus als TSV schreiben\n",
    "Diese Datei wird von TRACER zum Textvergleich verwendet."
   ]
  },
  {
   "cell_type": "code",
   "execution_count": 40,
   "metadata": {},
   "outputs": [],
   "source": [
    "with open(\"%s-Korpus.txt\" % name, \"w\") as korpus:\n",
    "    for lines in tokenized:\n",
    "        korpus.write(str(line_cnt)+'\\t'+lines+\"\\t\"+\"NULL\"+\"\\t\"+name+\"\\n\")\n",
    "        line_cnt+=1"
   ]
  },
  {
   "cell_type": "markdown",
   "metadata": {},
   "source": [
    "## POS-Tagging und Lemmatisierung\n",
    "ACHTUNG: CLTK-Lemmatizer und -POSTagger liefern auch falsche Ergebnisse!\n",
    "TRACER-Format: word-form TAB base-form TAB word-class (POS-Tag 1. Buchstabe)"
   ]
  },
  {
   "cell_type": "markdown",
   "metadata": {},
   "source": [
    "### POS-Tagging"
   ]
  },
  {
   "cell_type": "code",
   "execution_count": 41,
   "metadata": {},
   "outputs": [],
   "source": [
    "from cltk.tag.pos import POSTag\n",
    "tagger = POSTag('greek')\n",
    "tagged = tagger.tag_crf(normalized)\n",
    "pos = []\n",
    "count = 0\n",
    "for lines in tagged: \n",
    "    pos.append(tagged[count][1][0].lower())\n",
    "    count+=1"
   ]
  },
  {
   "cell_type": "markdown",
   "metadata": {},
   "source": [
    "### Lemmatisierung"
   ]
  },
  {
   "cell_type": "code",
   "execution_count": 42,
   "metadata": {},
   "outputs": [],
   "source": [
    "from cltk.stem.lemma import LemmaReplacer\n",
    "lemmatizer = LemmaReplacer('greek')\n",
    "lemmatized = lemmatizer.lemmatize(normalized, return_raw=True)"
   ]
  },
  {
   "cell_type": "markdown",
   "metadata": {},
   "source": [
    "### Lemma-Liste im Format für TRACER"
   ]
  },
  {
   "cell_type": "code",
   "execution_count": 43,
   "metadata": {},
   "outputs": [],
   "source": [
    "with open(\"%s.lemma\" % name, \"w\") as lemma:\n",
    "    master = [list(l) for l in zip(lemmatized, pos)]\n",
    "    for i, v in enumerate(master):\n",
    "       if v[0] == ',/,' or v[0] == ';/;':\n",
    "           master.remove(master[i])\n",
    "    bereinigt = [[x.replace('/','\\t') for x in l] for l in master]\n",
    "    fertig = '\\n'.join('\\t'.join(inner) for inner in bereinigt)\n",
    "    lemma.write(fertig)"
   ]
  },
  {
   "cell_type": "code",
   "execution_count": null,
   "metadata": {},
   "outputs": [],
   "source": []
  }
 ],
 "metadata": {
  "kernelspec": {
   "display_name": "Python 3",
   "language": "python",
   "name": "python3"
  },
  "language_info": {
   "codemirror_mode": {
    "name": "ipython",
    "version": 3
   },
   "file_extension": ".py",
   "mimetype": "text/x-python",
   "name": "python",
   "nbconvert_exporter": "python",
   "pygments_lexer": "ipython3",
   "version": "3.6.5"
  }
 },
 "nbformat": 4,
 "nbformat_minor": 2
}
